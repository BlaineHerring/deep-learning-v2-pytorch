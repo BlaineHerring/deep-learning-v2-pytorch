{
 "cells": [
  {
   "cell_type": "markdown",
   "metadata": {},
   "source": [
    "# Neural networks with PyTorch\n",
    "\n",
    "Deep learning networks tend to be massive with dozens or hundreds of layers, that's where the term \"deep\" comes from. You can build one of these deep networks using only weight matrices as we did in the previous notebook, but in general it's very cumbersome and difficult to implement. PyTorch has a nice module `nn` that provides a nice way to efficiently build large neural networks."
   ]
  },
  {
   "cell_type": "code",
   "execution_count": 15,
   "metadata": {
    "ExecuteTime": {
     "end_time": "2021-06-09T12:41:01.358664Z",
     "start_time": "2021-06-09T12:41:01.336748Z"
    }
   },
   "outputs": [],
   "source": [
    "# Import necessary packages\n",
    "\n",
    "%matplotlib inline\n",
    "%config InlineBackend.figure_format = 'retina'\n",
    "\n",
    "import numpy as np\n",
    "import torch\n",
    "\n",
    "import helper\n",
    "\n",
    "import matplotlib.pyplot as plt"
   ]
  },
  {
   "cell_type": "markdown",
   "metadata": {},
   "source": [
    "\n",
    "Now we're going to build a larger network that can solve a (formerly) difficult problem, identifying text in an image. Here we'll use the MNIST dataset which consists of greyscale handwritten digits. Each image is 28x28 pixels, you can see a sample below\n",
    "\n",
    "<img src='assets/mnist.png'>\n",
    "\n",
    "Our goal is to build a neural network that can take one of these images and predict the digit in the image.\n",
    "\n",
    "First up, we need to get our dataset. This is provided through the `torchvision` package. The code below will download the MNIST dataset, then create training and test datasets for us. Don't worry too much about the details here, you'll learn more about this later."
   ]
  },
  {
   "cell_type": "code",
   "execution_count": 16,
   "metadata": {
    "ExecuteTime": {
     "end_time": "2021-06-09T12:41:02.476695Z",
     "start_time": "2021-06-09T12:41:02.440913Z"
    }
   },
   "outputs": [],
   "source": [
    "### Run this cell\n",
    "\n",
    "from torchvision import datasets, transforms\n",
    "\n",
    "# Define a transform to normalize the data\n",
    "transform = transforms.Compose([transforms.ToTensor(),\n",
    "                              transforms.Normalize((0.5,), (0.5,)),\n",
    "                              ])\n",
    "\n",
    "# Download and load the training data\n",
    "trainset = datasets.MNIST('~/.pytorch/MNIST_data/', download=True, train=True, transform=transform)\n",
    "trainloader = torch.utils.data.DataLoader(trainset, batch_size=64, shuffle=True)"
   ]
  },
  {
   "cell_type": "markdown",
   "metadata": {},
   "source": [
    "We have the training data loaded into `trainloader` and we make that an iterator with `iter(trainloader)`. Later, we'll use this to loop through the dataset for training, like\n",
    "\n",
    "```python\n",
    "for image, label in trainloader:\n",
    "    ## do things with images and labels\n",
    "```\n",
    "\n",
    "You'll notice I created the `trainloader` with a batch size of 64, and `shuffle=True`. The batch size is the number of images we get in one iteration from the data loader and pass through our network, often called a *batch*. And `shuffle=True` tells it to shuffle the dataset every time we start going through the data loader again. But here I'm just grabbing the first batch so we can check out the data. We can see below that `images` is just a tensor with size `(64, 1, 28, 28)`. So, 64 images per batch, 1 color channel, and 28x28 images."
   ]
  },
  {
   "cell_type": "code",
   "execution_count": 17,
   "metadata": {
    "ExecuteTime": {
     "end_time": "2021-06-09T12:41:03.246599Z",
     "start_time": "2021-06-09T12:41:03.223660Z"
    }
   },
   "outputs": [
    {
     "name": "stdout",
     "output_type": "stream",
     "text": [
      "<class 'torch.Tensor'>\n",
      "torch.Size([64, 1, 28, 28])\n",
      "torch.Size([64])\n"
     ]
    }
   ],
   "source": [
    "dataiter = iter(trainloader)\n",
    "images, labels = dataiter.next()\n",
    "print(type(images))\n",
    "print(images.shape)\n",
    "print(labels.shape)"
   ]
  },
  {
   "cell_type": "markdown",
   "metadata": {},
   "source": [
    "This is what one of the images looks like. "
   ]
  },
  {
   "cell_type": "code",
   "execution_count": 18,
   "metadata": {
    "ExecuteTime": {
     "end_time": "2021-06-09T12:41:05.411742Z",
     "start_time": "2021-06-09T12:41:05.279626Z"
    }
   },
   "outputs": [
    {
     "data": {
      "image/png": "[encoded data removed]",
      "text/plain": [
       "<Figure size 432x288 with 1 Axes>"
      ]
     },
     "metadata": {
      "image/png": {
       "height": 248,
       "width": 251
      },
      "needs_background": "light"
     },
     "output_type": "display_data"
    }
   ],
   "source": [
    "plt.imshow(images[1].numpy().squeeze(), cmap='Greys_r');"
   ]
  },
  {
   "cell_type": "markdown",
   "metadata": {},
   "source": [
    "First, let's try to build a simple network for this dataset using weight matrices and matrix multiplications. Then, we'll see how to do it using PyTorch's `nn` module which provides a much more convenient and powerful method for defining network architectures.\n",
    "\n",
    "The networks you've seen so far are called *fully-connected* or *dense* networks. Each unit in one layer is connected to each unit in the next layer. In fully-connected networks, the input to each layer must be a one-dimensional vector (which can be stacked into a 2D tensor as a batch of multiple examples). However, our images are 28x28 2D tensors, so we need to convert them into 1D vectors. Thinking about sizes, we need to convert the batch of images with shape `(64, 1, 28, 28)` to a have a shape of `(64, 784)`, 784 is 28 times 28. This is typically called *flattening*, we flattened the 2D images into 1D vectors.\n",
    "\n",
    "Previously you built a network with one output unit. Here we need 10 output units, one for each digit. We want our network to predict the digit shown in an image, so what we'll do is calculate probabilities that the image is of any one digit or class. This ends up being a discrete probability distribution over the classes (digits) that tells us the most likely class for the image. That means we need 10 output units for the 10 classes (digits). We'll see how to convert the network output into a probability distribution next.\n",
    "\n",
    "> **Exercise:** Flatten the batch of images `images`. Then build a multi-layer network with 784 input units, 256 hidden units, and 10 output units using random tensors for the weights and biases. For now, use a sigmoid activation for the hidden layer. Leave the output layer without an activation, we'll add one that gives us a probability distribution next."
   ]
  },
  {
   "cell_type": "code",
   "execution_count": 19,
   "metadata": {
    "ExecuteTime": {
     "end_time": "2021-06-09T12:41:08.063086Z",
     "start_time": "2021-06-09T12:41:08.023193Z"
    }
   },
   "outputs": [
    {
     "data": {
      "text/plain": [
       "tensor([[1.7316e-07, 2.8617e-01, 9.9182e-01, 2.1103e-03, 1.1493e-01, 9.9962e-01,\n",
       "         4.4035e-02, 6.8511e-03, 2.4160e-06, 9.3302e-01],\n",
       "        [5.0413e-09, 6.6934e-08, 5.1991e-06, 3.8761e-06, 9.9960e-01, 9.9920e-01,\n",
       "         2.1041e-01, 9.9967e-01, 7.3065e-05, 4.8268e-02],\n",
       "        [5.7100e-09, 1.6564e-05, 3.8266e-01, 3.1319e-03, 9.9912e-01, 9.9998e-01,\n",
       "         4.9366e-01, 9.9651e-01, 8.5383e-04, 1.3005e-03],\n",
       "        [1.6869e-08, 2.0563e-03, 8.8784e-01, 5.9850e-01, 9.9979e-01, 9.7341e-01,\n",
       "         2.0689e-02, 1.8680e-02, 8.1195e-06, 3.0421e-01],\n",
       "        [5.5799e-08, 6.9997e-04, 5.9261e-01, 1.0093e-07, 9.9992e-01, 9.9985e-01,\n",
       "         9.9837e-01, 1.0000e+00, 1.3162e-05, 1.0208e-03],\n",
       "        [1.1224e-06, 5.1933e-04, 9.9882e-01, 2.5797e-01, 1.0000e+00, 9.9976e-01,\n",
       "         2.7315e-01, 9.5608e-01, 3.0506e-07, 1.0189e-01],\n",
       "        [1.6267e-04, 6.2160e-05, 5.4436e-03, 1.0129e-02, 1.0000e+00, 9.9029e-01,\n",
       "         4.4670e-04, 1.0000e+00, 1.5738e-04, 3.9633e-03],\n",
       "        [9.4584e-08, 8.3321e-04, 9.6478e-01, 2.8604e-06, 6.2677e-01, 1.0000e+00,\n",
       "         5.4068e-04, 9.9781e-01, 6.8311e-09, 2.1911e-01],\n",
       "        [9.8654e-09, 1.3594e-03, 5.0499e-03, 1.7068e-03, 9.6379e-01, 9.9969e-01,\n",
       "         5.8634e-05, 9.9950e-01, 7.8512e-07, 7.7283e-01],\n",
       "        [1.4609e-07, 2.4748e-05, 8.8589e-02, 6.4745e-06, 9.8973e-01, 1.0000e+00,\n",
       "         1.4877e-03, 2.1562e-01, 1.2322e-10, 5.7556e-01],\n",
       "        [4.7174e-07, 8.6012e-03, 8.8331e-01, 6.7446e-03, 1.0000e+00, 9.9997e-01,\n",
       "         2.9363e-01, 9.8259e-01, 8.1732e-08, 9.7339e-01],\n",
       "        [1.5139e-08, 2.1103e-02, 3.9782e-03, 2.1470e-01, 9.9800e-01, 9.9727e-01,\n",
       "         1.7323e-02, 3.5892e-01, 5.0631e-07, 9.9844e-01],\n",
       "        [2.5068e-10, 1.5147e-01, 2.9680e-01, 6.7807e-01, 9.9998e-01, 7.9335e-01,\n",
       "         3.6565e-03, 1.5305e-02, 1.3762e-04, 2.5172e-01],\n",
       "        [6.4964e-10, 4.2438e-01, 6.0368e-01, 3.2414e-06, 4.2685e-03, 6.5377e-01,\n",
       "         2.5587e-05, 1.3586e-04, 3.2960e-06, 9.9884e-01],\n",
       "        [3.7665e-08, 1.3444e-07, 1.3083e-02, 1.0891e-06, 9.9271e-01, 9.7098e-01,\n",
       "         8.9392e-01, 7.1224e-01, 7.3608e-07, 1.9651e-02],\n",
       "        [1.7466e-10, 3.2224e-01, 3.1804e-04, 5.9155e-07, 9.8967e-01, 9.4479e-01,\n",
       "         9.8503e-01, 9.9970e-01, 1.2772e-04, 1.8552e-01],\n",
       "        [5.2931e-03, 2.6366e-04, 2.5202e-03, 7.1726e-05, 8.9882e-01, 7.5897e-01,\n",
       "         6.5314e-04, 9.9462e-01, 1.6021e-02, 1.1148e-02],\n",
       "        [3.8708e-07, 2.1926e-04, 9.4943e-03, 3.1350e-05, 9.9989e-01, 9.9995e-01,\n",
       "         1.2221e-04, 7.3659e-01, 1.9968e-05, 9.7706e-01],\n",
       "        [2.5656e-03, 8.8589e-03, 4.9346e-02, 1.5081e-03, 1.0000e+00, 9.9974e-01,\n",
       "         3.5528e-05, 6.9821e-03, 1.1436e-04, 6.1842e-01],\n",
       "        [1.5008e-05, 2.8800e-01, 4.8182e-01, 3.1868e-08, 1.0000e+00, 1.0000e+00,\n",
       "         8.5433e-04, 8.3729e-01, 1.1276e-05, 5.2852e-03],\n",
       "        [4.3281e-09, 2.3773e-06, 2.3511e-02, 9.6073e-02, 4.1955e-01, 1.0000e+00,\n",
       "         2.6081e-04, 1.0484e-08, 3.4711e-07, 9.8874e-01],\n",
       "        [6.7655e-09, 1.8691e-05, 3.3246e-01, 3.2589e-03, 9.9990e-01, 9.8301e-01,\n",
       "         3.9193e-02, 9.9692e-01, 6.7726e-06, 3.9328e-03],\n",
       "        [6.1586e-08, 3.9991e-02, 4.0644e-01, 1.5293e-02, 9.9967e-01, 9.4342e-01,\n",
       "         2.1642e-03, 9.9989e-01, 2.4838e-07, 8.1521e-02],\n",
       "        [2.9828e-07, 2.4341e-05, 2.7841e-02, 1.0804e-05, 9.9840e-01, 9.9876e-01,\n",
       "         1.0828e-04, 2.1980e-02, 6.5749e-07, 3.6597e-01],\n",
       "        [1.9656e-04, 8.4594e-01, 9.9685e-01, 2.3241e-04, 1.5299e-02, 9.9981e-01,\n",
       "         1.3898e-03, 9.9984e-01, 4.2597e-09, 9.9926e-01],\n",
       "        [1.7746e-03, 3.2954e-06, 5.2224e-01, 3.2788e-05, 9.9997e-01, 9.9722e-01,\n",
       "         4.1216e-04, 1.0000e+00, 7.7080e-07, 4.0582e-03],\n",
       "        [1.8351e-08, 1.9378e-03, 8.7893e-01, 8.7059e-07, 9.5190e-01, 9.9805e-01,\n",
       "         2.3933e-03, 4.0987e-03, 6.7262e-04, 2.3154e-01],\n",
       "        [9.3771e-08, 5.5982e-03, 7.9110e-01, 1.1813e-04, 9.9995e-01, 9.9975e-01,\n",
       "         3.8774e-02, 9.9637e-01, 5.5451e-09, 2.2871e-01],\n",
       "        [8.7132e-07, 4.5163e-05, 3.1298e-01, 4.4076e-04, 9.9895e-01, 7.5117e-01,\n",
       "         1.0123e-03, 9.9936e-01, 7.6095e-08, 1.0150e-03],\n",
       "        [1.8379e-05, 1.8945e-05, 1.2873e-01, 7.9003e-06, 9.9996e-01, 9.9757e-01,\n",
       "         2.9330e-02, 9.9997e-01, 6.4341e-07, 4.7673e-02],\n",
       "        [8.1861e-10, 1.3757e-06, 4.8953e-04, 6.4031e-06, 9.9834e-01, 9.9988e-01,\n",
       "         2.1912e-07, 2.6790e-02, 2.1662e-05, 1.4130e-02],\n",
       "        [6.1847e-07, 2.8044e-01, 9.7048e-01, 1.1116e-04, 1.0000e+00, 7.1639e-03,\n",
       "         6.6580e-06, 9.4631e-01, 4.2800e-05, 1.0552e-03],\n",
       "        [2.0172e-07, 3.2511e-02, 9.0416e-01, 7.7797e-02, 9.9999e-01, 9.9665e-01,\n",
       "         8.4049e-03, 7.9456e-01, 4.3847e-07, 4.8124e-01],\n",
       "        [1.6024e-09, 1.5682e-05, 2.5091e-02, 2.3906e-06, 9.9927e-01, 1.0000e+00,\n",
       "         9.6482e-04, 9.9603e-01, 3.1091e-06, 3.0105e-05],\n",
       "        [1.6336e-09, 2.1667e-06, 3.2472e-01, 2.4332e-06, 9.9998e-01, 9.9819e-01,\n",
       "         2.0787e-03, 9.5329e-01, 1.5879e-05, 9.8898e-04],\n",
       "        [7.0171e-10, 8.5227e-05, 3.1580e-03, 5.5141e-01, 5.7174e-01, 9.9999e-01,\n",
       "         7.0500e-03, 6.4755e-08, 9.9652e-06, 9.2261e-01],\n",
       "        [6.5001e-07, 1.0116e-05, 9.9857e-01, 1.9449e-05, 9.9978e-01, 9.9461e-01,\n",
       "         3.8900e-04, 1.6721e-02, 1.8798e-05, 7.0963e-02],\n",
       "        [4.5398e-08, 1.9735e-04, 9.9995e-01, 1.1438e-02, 9.9516e-01, 8.4522e-01,\n",
       "         2.2307e-01, 4.2632e-02, 1.7650e-06, 3.5562e-03],\n",
       "        [2.4976e-08, 3.1430e-03, 2.4657e-01, 1.4888e-06, 4.8106e-04, 1.0000e+00,\n",
       "         5.4442e-04, 7.2445e-01, 2.5992e-12, 4.0194e-03],\n",
       "        [1.0221e-06, 4.0923e-03, 9.1832e-01, 1.3301e-07, 7.3401e-01, 9.9971e-01,\n",
       "         2.0491e-08, 2.8780e-01, 1.4965e-06, 4.9316e-01],\n",
       "        [5.7720e-05, 1.7449e-06, 4.0726e-01, 2.1240e-04, 9.9955e-01, 9.9366e-01,\n",
       "         6.7260e-04, 1.7276e-01, 2.0423e-07, 3.6953e-03],\n",
       "        [1.3768e-08, 1.2716e-02, 9.9960e-01, 7.7327e-05, 1.0000e+00, 9.9567e-01,\n",
       "         5.6252e-02, 1.6340e-01, 1.1617e-04, 6.1897e-01],\n",
       "        [6.2827e-07, 6.4275e-04, 5.3304e-02, 7.7976e-05, 8.7979e-01, 1.0000e+00,\n",
       "         7.5818e-06, 9.7170e-01, 1.7880e-06, 4.4088e-01],\n",
       "        [2.4167e-08, 3.3285e-02, 9.9474e-01, 3.0933e-06, 9.8373e-01, 9.9997e-01,\n",
       "         9.9327e-01, 4.7211e-04, 4.7792e-05, 3.3507e-01],\n",
       "        [3.1355e-06, 3.1268e-01, 7.7830e-01, 1.3602e-04, 9.9997e-01, 9.9826e-01,\n",
       "         5.7759e-02, 3.8071e-01, 2.6409e-03, 1.2395e-02],\n",
       "        [4.4572e-08, 4.3251e-04, 1.4110e-04, 6.3127e-04, 9.8440e-01, 9.6844e-01,\n",
       "         5.7420e-02, 4.3178e-02, 4.2119e-07, 3.5417e-03],\n",
       "        [3.8855e-07, 1.7525e-07, 2.3923e-05, 3.0829e-03, 1.0000e+00, 9.9919e-01,\n",
       "         5.8147e-05, 9.6988e-01, 6.2004e-06, 1.6052e-04],\n",
       "        [1.2902e-10, 1.4239e-02, 8.3631e-01, 3.8528e-05, 9.2451e-01, 9.9991e-01,\n",
       "         1.0827e-01, 8.5231e-03, 3.3607e-09, 6.5959e-02],\n",
       "        [2.6990e-07, 1.9499e-05, 5.6502e-01, 8.3411e-06, 9.9958e-01, 9.9871e-01,\n",
       "         6.8495e-01, 9.2209e-02, 1.0405e-04, 1.6125e-02],\n",
       "        [8.2507e-03, 7.4502e-06, 2.6466e-01, 2.1767e-04, 1.0000e+00, 8.4115e-01,\n",
       "         9.9971e-01, 1.0593e-01, 1.7395e-05, 7.0877e-01],\n",
       "        [2.2214e-09, 4.3418e-05, 3.0449e-02, 2.8707e-04, 9.9935e-01, 9.9190e-01,\n",
       "         2.8417e-02, 9.9170e-01, 8.4279e-06, 2.8335e-02],\n",
       "        [5.5351e-05, 2.9716e-04, 8.2907e-01, 3.5467e-05, 1.0000e+00, 9.9894e-01,\n",
       "         9.9996e-01, 9.9797e-01, 3.0357e-06, 1.0196e-02],\n",
       "        [3.8450e-08, 8.8963e-01, 1.7357e-01, 1.4449e-03, 9.2862e-01, 9.8270e-01,\n",
       "         1.1811e-03, 8.4872e-01, 4.2466e-03, 2.5918e-01],\n",
       "        [3.2170e-07, 9.2275e-01, 9.9485e-01, 5.4016e-04, 9.6427e-01, 9.6696e-01,\n",
       "         3.6695e-05, 2.2026e-01, 6.1715e-05, 9.5060e-01],\n",
       "        [6.2944e-06, 9.9333e-01, 5.6905e-01, 7.9318e-07, 9.8642e-01, 9.9780e-01,\n",
       "         1.4558e-04, 1.0851e-02, 1.9552e-09, 9.4845e-01],\n",
       "        [4.6587e-05, 1.8045e-02, 7.9481e-01, 7.8155e-01, 9.9903e-01, 9.9992e-01,\n",
       "         6.6528e-03, 9.8461e-01, 1.1966e-04, 6.0654e-01],\n",
       "        [1.6168e-04, 6.7955e-06, 7.1626e-01, 6.4757e-06, 9.9730e-01, 9.9894e-01,\n",
       "         1.7866e-02, 2.7337e-01, 5.9236e-07, 1.6989e-02],\n",
       "        [8.3426e-09, 3.9397e-05, 2.5112e-03, 6.8325e-04, 1.0000e+00, 9.6923e-01,\n",
       "         8.3199e-03, 9.9928e-01, 8.6003e-06, 9.0079e-04],\n",
       "        [7.0064e-09, 8.1338e-01, 1.0711e-01, 2.5648e-06, 9.9729e-01, 9.8334e-01,\n",
       "         2.8092e-06, 9.9961e-01, 7.6854e-05, 1.0063e-04],\n",
       "        [2.3745e-07, 5.9613e-03, 9.9947e-01, 1.0027e-06, 8.0043e-01, 9.6321e-01,\n",
       "         4.1768e-05, 9.8934e-01, 1.3845e-06, 9.1385e-01],\n",
       "        [3.0332e-07, 2.6026e-02, 1.4438e-05, 8.6877e-06, 9.9996e-01, 7.0948e-01,\n",
       "         2.2046e-04, 6.8436e-01, 6.7427e-05, 5.9428e-05],\n",
       "        [2.5876e-04, 7.1034e-04, 8.7211e-01, 3.9088e-06, 1.0000e+00, 9.9236e-01,\n",
       "         4.4690e-03, 3.6238e-01, 6.0640e-05, 1.1503e-01],\n",
       "        [1.1926e-06, 1.9923e-06, 8.0844e-06, 3.9829e-05, 9.9849e-01, 9.9999e-01,\n",
       "         8.8519e-01, 5.6044e-01, 4.1851e-05, 1.0472e-02],\n",
       "        [1.0726e-08, 4.5348e-04, 2.0680e-03, 6.6629e-03, 8.1880e-01, 9.9993e-01,\n",
       "         2.4430e-04, 2.4773e-04, 9.2511e-06, 9.9847e-01]])"
      ]
     },
     "execution_count": 19,
     "metadata": {},
     "output_type": "execute_result"
    }
   ],
   "source": [
    "## Your solution   \n",
    "\n",
    "## Activation function\n",
    "def activation(x):\n",
    "    \"\"\" Sigmoid activation function \n",
    "        Arguments\n",
    "        ---------\n",
    "        x: torch.Tensor\n",
    "    \"\"\"\n",
    "    return 1/(1+torch.exp(-x))\n",
    "\n",
    "### Neural network\n",
    "def multi_Layer_NW(inputUnits, hiddenUnits, outputUnits):\n",
    "    torch.manual_seed(7) # Set the random seed so things are predictable\n",
    "\n",
    "    # Define the size of each layer in our network\n",
    "    n_input = inputUnits     # Number of input units, must match number of input features\n",
    "    n_hidden = hiddenUnits   # Number of hidden units \n",
    "    n_output = outputUnits   # Number of output units\n",
    "\n",
    "    # Weights for inputs to hidden layer\n",
    "    W1 = torch.randn(n_input, n_hidden)\n",
    "    # Weights for hidden layer to output layer\n",
    "    W2 = torch.randn(n_hidden, n_output)\n",
    "\n",
    "    # and bias terms for hidden and output layers\n",
    "    B1 = torch.randn((1, n_hidden))\n",
    "    B2 = torch.randn((1, n_output))\n",
    "\n",
    "    return W1,W2,B1,B2\n",
    "\n",
    "def calc_output(features,W1,W2,B1,B2):\n",
    "    h = activation(torch.matmul(features,W1).add_(B1))\n",
    "    output = activation(torch.matmul(h,W2).add_(B2))\n",
    "    return output\n",
    "\n",
    "# Features are flattened batch input\n",
    "features = torch.flatten(images,start_dim=1)\n",
    "W1,W2,B1,B2 = multi_Layer_NW(features.shape[1],256,10)\n",
    "\n",
    "out = calc_output(features,W1,W2,B1,B2) # output of your network, should have shape (64,10)\n",
    "out"
   ]
  },
  {
   "cell_type": "markdown",
   "metadata": {},
   "source": [
    "Now we have 10 outputs for our network. We want to pass in an image to our network and get out a probability distribution over the classes that tells us the likely class(es) the image belongs to. Something that looks like this:\n",
    "<img src='assets/image_distribution.png' width=500px>\n",
    "\n",
    "Here we see that the probability for each class is roughly the same. This is representing an untrained network, it hasn't seen any data yet so it just returns a uniform distribution with equal probabilities for each class.\n",
    "\n",
    "To calculate this probability distribution, we often use the [**softmax** function](https://en.wikipedia.org/wiki/Softmax_function). Mathematically this looks like\n",
    "\n",
    "$$\n",
    "\\Large \\sigma(x_i) = \\cfrac{e^{x_i}}{\\sum_k^K{e^{x_k}}}\n",
    "$$\n",
    "\n",
    "What this does is squish each input $x_i$ between 0 and 1 and normalizes the values to give you a proper probability distribution where the probabilites sum up to one.\n",
    "\n",
    "> **Exercise:** Implement a function `softmax` that performs the softmax calculation and returns probability distributions for each example in the batch. Note that you'll need to pay attention to the shapes when doing this. If you have a tensor `a` with shape `(64, 10)` and a tensor `b` with shape `(64,)`, doing `a/b` will give you an error because PyTorch will try to do the division across the columns (called broadcasting) but you'll get a size mismatch. The way to think about this is for each of the 64 examples, you only want to divide by one value, the sum in the denominator. So you need `b` to have a shape of `(64, 1)`. This way PyTorch will divide the 10 values in each row of `a` by the one value in each row of `b`. Pay attention to how you take the sum as well. You'll need to define the `dim` keyword in `torch.sum`. Setting `dim=0` takes the sum across the rows while `dim=1` takes the sum across the columns."
   ]
  },
  {
   "cell_type": "code",
   "execution_count": 41,
   "metadata": {
    "ExecuteTime": {
     "end_time": "2021-06-09T12:52:42.294246Z",
     "start_time": "2021-06-09T12:52:42.287994Z"
    }
   },
   "outputs": [
    {
     "data": {
      "text/plain": [
       "tensor(1.)"
      ]
     },
     "execution_count": 41,
     "metadata": {},
     "output_type": "execute_result"
    }
   ],
   "source": [
    "a = torch.exp(out)/torch.sum(torch.exp(out), dim=1).view(-1,1)\n",
    "sum(a[2,:])"
   ]
  },
  {
   "cell_type": "code",
   "execution_count": 29,
   "metadata": {
    "ExecuteTime": {
     "end_time": "2021-06-09T12:47:19.622486Z",
     "start_time": "2021-06-09T12:47:19.609956Z"
    }
   },
   "outputs": [
    {
     "name": "stdout",
     "output_type": "stream",
     "text": [
      "torch.Size([64, 10])\n",
      "tensor([1.0000, 1.0000, 1.0000, 1.0000, 1.0000, 1.0000, 1.0000, 1.0000, 1.0000,\n",
      "        1.0000, 1.0000, 1.0000, 1.0000, 1.0000, 1.0000, 1.0000, 1.0000, 1.0000,\n",
      "        1.0000, 1.0000, 1.0000, 1.0000, 1.0000, 1.0000, 1.0000, 1.0000, 1.0000,\n",
      "        1.0000, 1.0000, 1.0000, 1.0000, 1.0000, 1.0000, 1.0000, 1.0000, 1.0000,\n",
      "        1.0000, 1.0000, 1.0000, 1.0000, 1.0000, 1.0000, 1.0000, 1.0000, 1.0000,\n",
      "        1.0000, 1.0000, 1.0000, 1.0000, 1.0000, 1.0000, 1.0000, 1.0000, 1.0000,\n",
      "        1.0000, 1.0000, 1.0000, 1.0000, 1.0000, 1.0000, 1.0000, 1.0000, 1.0000,\n",
      "        1.0000])\n"
     ]
    }
   ],
   "source": [
    "def softmax(x):\n",
    "    return torch.exp(x)/torch.sum(torch.exp(x), dim=1).view(-1,1)\n",
    "# Here, out should be the output of the network in the previous excercise with shape (64,10)\n",
    "probabilities = softmax(out)\n",
    "\n",
    "# Does it have the right shape? Should be (64, 10)\n",
    "print(probabilities.shape)\n",
    "# Does it sum to 1?\n",
    "print(probabilities.sum(dim=1))"
   ]
  },
  {
   "cell_type": "markdown",
   "metadata": {},
   "source": [
    "## Building networks with PyTorch\n",
    "\n",
    "PyTorch provides a module `nn` that makes building networks much simpler. Here I'll show you how to build the same one as above with 784 inputs, 256 hidden units, 10 output units and a softmax output."
   ]
  },
  {
   "cell_type": "code",
   "execution_count": 43,
   "metadata": {
    "ExecuteTime": {
     "end_time": "2021-06-09T12:57:00.805124Z",
     "start_time": "2021-06-09T12:57:00.793157Z"
    }
   },
   "outputs": [],
   "source": [
    "from torch import nn"
   ]
  },
  {
   "cell_type": "code",
   "execution_count": 44,
   "metadata": {
    "ExecuteTime": {
     "end_time": "2021-06-09T12:57:01.365509Z",
     "start_time": "2021-06-09T12:57:01.352544Z"
    }
   },
   "outputs": [],
   "source": [
    "class Network(nn.Module):\n",
    "    def __init__(self):\n",
    "        super().__init__()\n",
    "        \n",
    "        # Inputs to hidden layer linear transformation\n",
    "        self.hidden = nn.Linear(784, 256)\n",
    "        # Output layer, 10 units - one for each digit\n",
    "        self.output = nn.Linear(256, 10)\n",
    "        \n",
    "        # Define sigmoid activation and softmax output \n",
    "        self.sigmoid = nn.Sigmoid()\n",
    "        self.softmax = nn.Softmax(dim=1)\n",
    "        \n",
    "    def forward(self, x):\n",
    "        # Pass the input tensor through each of our operations\n",
    "        x = self.hidden(x)\n",
    "        x = self.sigmoid(x)\n",
    "        x = self.output(x)\n",
    "        x = self.softmax(x)\n",
    "        \n",
    "        return x"
   ]
  },
  {
   "cell_type": "markdown",
   "metadata": {},
   "source": [
    "Let's go through this bit by bit.\n",
    "\n",
    "```python\n",
    "class Network(nn.Module):\n",
    "```\n",
    "\n",
    "Here we're inheriting from `nn.Module`. Combined with `super().__init__()` this creates a class that tracks the architecture and provides a lot of useful methods and attributes. It is mandatory to inherit from `nn.Module` when you're creating a class for your network. The name of the class itself can be anything.\n",
    "\n",
    "```python\n",
    "self.hidden = nn.Linear(784, 256)\n",
    "```\n",
    "\n",
    "This line creates a module for a linear transformation, $x\\mathbf{W} + b$, with 784 inputs and 256 outputs and assigns it to `self.hidden`. The module automatically creates the weight and bias tensors which we'll use in the `forward` method. You can access the weight and bias tensors once the network (`net`) is created with `net.hidden.weight` and `net.hidden.bias`.\n",
    "\n",
    "```python\n",
    "self.output = nn.Linear(256, 10)\n",
    "```\n",
    "\n",
    "Similarly, this creates another linear transformation with 256 inputs and 10 outputs.\n",
    "\n",
    "```python\n",
    "self.sigmoid = nn.Sigmoid()\n",
    "self.softmax = nn.Softmax(dim=1)\n",
    "```\n",
    "\n",
    "Here I defined operations for the sigmoid activation and softmax output. Setting `dim=1` in `nn.Softmax(dim=1)` calculates softmax across the columns.\n",
    "\n",
    "```python\n",
    "def forward(self, x):\n",
    "```\n",
    "\n",
    "PyTorch networks created with `nn.Module` must have a `forward` method defined. It takes in a tensor `x` and passes it through the operations you defined in the `__init__` method.\n",
    "\n",
    "```python\n",
    "x = self.hidden(x)\n",
    "x = self.sigmoid(x)\n",
    "x = self.output(x)\n",
    "x = self.softmax(x)\n",
    "```\n",
    "\n",
    "Here the input tensor `x` is passed through each operation and reassigned to `x`. We can see that the input tensor goes through the hidden layer, then a sigmoid function, then the output layer, and finally the softmax function. It doesn't matter what you name the variables here, as long as the inputs and outputs of the operations match the network architecture you want to build. The order in which you define things in the `__init__` method doesn't matter, but you'll need to sequence the operations correctly in the `forward` method.\n",
    "\n",
    "Now we can create a `Network` object."
   ]
  },
  {
   "cell_type": "code",
   "execution_count": 45,
   "metadata": {
    "ExecuteTime": {
     "end_time": "2021-06-09T12:57:17.687891Z",
     "start_time": "2021-06-09T12:57:17.672930Z"
    }
   },
   "outputs": [
    {
     "data": {
      "text/plain": [
       "Network(\n",
       "  (hidden): Linear(in_features=784, out_features=256, bias=True)\n",
       "  (output): Linear(in_features=256, out_features=10, bias=True)\n",
       "  (sigmoid): Sigmoid()\n",
       "  (softmax): Softmax(dim=1)\n",
       ")"
      ]
     },
     "execution_count": 45,
     "metadata": {},
     "output_type": "execute_result"
    }
   ],
   "source": [
    "# Create the network and look at its text representation\n",
    "model = Network()\n",
    "model"
   ]
  },
  {
   "cell_type": "code",
   "execution_count": 49,
   "metadata": {
    "ExecuteTime": {
     "end_time": "2021-06-09T12:59:46.594451Z",
     "start_time": "2021-06-09T12:59:46.567544Z"
    }
   },
   "outputs": [
    {
     "data": {
      "text/plain": [
       "tensor([[0.1033, 0.1175, 0.1109, 0.1067, 0.0931, 0.0934, 0.0741, 0.1110, 0.0750,\n",
       "         0.1149],\n",
       "        [0.1039, 0.1266, 0.1065, 0.1038, 0.0959, 0.0984, 0.0685, 0.1077, 0.0780,\n",
       "         0.1109],\n",
       "        [0.1040, 0.1265, 0.1151, 0.1046, 0.0938, 0.0884, 0.0698, 0.1084, 0.0752,\n",
       "         0.1142],\n",
       "        [0.1054, 0.1167, 0.1104, 0.1048, 0.0974, 0.0839, 0.0742, 0.1142, 0.0787,\n",
       "         0.1143],\n",
       "        [0.1002, 0.1253, 0.1027, 0.1022, 0.0984, 0.0971, 0.0714, 0.1093, 0.0795,\n",
       "         0.1138],\n",
       "        [0.1137, 0.1197, 0.1054, 0.0995, 0.0975, 0.0936, 0.0742, 0.1059, 0.0745,\n",
       "         0.1160],\n",
       "        [0.1030, 0.1192, 0.1067, 0.1039, 0.0965, 0.0980, 0.0691, 0.1108, 0.0798,\n",
       "         0.1131],\n",
       "        [0.1071, 0.1139, 0.1079, 0.1112, 0.0947, 0.0924, 0.0693, 0.1049, 0.0830,\n",
       "         0.1155],\n",
       "        [0.1018, 0.1251, 0.1014, 0.1042, 0.0987, 0.0951, 0.0676, 0.1150, 0.0767,\n",
       "         0.1143],\n",
       "        [0.1124, 0.1169, 0.1184, 0.1063, 0.0952, 0.0862, 0.0670, 0.0991, 0.0774,\n",
       "         0.1213],\n",
       "        [0.1093, 0.1201, 0.1120, 0.1012, 0.0918, 0.0877, 0.0730, 0.1107, 0.0739,\n",
       "         0.1204],\n",
       "        [0.1036, 0.1136, 0.1203, 0.1013, 0.1004, 0.0921, 0.0747, 0.1007, 0.0776,\n",
       "         0.1158],\n",
       "        [0.1006, 0.1162, 0.1165, 0.1048, 0.0877, 0.0907, 0.0733, 0.1109, 0.0839,\n",
       "         0.1154],\n",
       "        [0.1043, 0.1141, 0.1120, 0.1083, 0.0946, 0.0938, 0.0694, 0.1094, 0.0794,\n",
       "         0.1147],\n",
       "        [0.1059, 0.1160, 0.1043, 0.1019, 0.0983, 0.0923, 0.0737, 0.1112, 0.0764,\n",
       "         0.1199],\n",
       "        [0.1090, 0.1186, 0.1050, 0.1029, 0.0959, 0.0977, 0.0710, 0.1133, 0.0711,\n",
       "         0.1155],\n",
       "        [0.1047, 0.1164, 0.1086, 0.1005, 0.0970, 0.0937, 0.0747, 0.1106, 0.0751,\n",
       "         0.1187],\n",
       "        [0.1043, 0.1182, 0.1048, 0.1124, 0.0946, 0.0979, 0.0658, 0.1105, 0.0787,\n",
       "         0.1129],\n",
       "        [0.1104, 0.1175, 0.1146, 0.1076, 0.0929, 0.0861, 0.0676, 0.1040, 0.0802,\n",
       "         0.1191],\n",
       "        [0.1009, 0.1219, 0.1001, 0.1058, 0.1005, 0.0976, 0.0717, 0.1121, 0.0754,\n",
       "         0.1139],\n",
       "        [0.1090, 0.1089, 0.1217, 0.1056, 0.0967, 0.0890, 0.0722, 0.0977, 0.0843,\n",
       "         0.1150],\n",
       "        [0.1033, 0.1253, 0.1097, 0.1051, 0.0977, 0.0909, 0.0724, 0.1120, 0.0718,\n",
       "         0.1116],\n",
       "        [0.1104, 0.1157, 0.1022, 0.1034, 0.0923, 0.0901, 0.0775, 0.1065, 0.0786,\n",
       "         0.1233],\n",
       "        [0.1079, 0.1199, 0.1100, 0.1095, 0.0957, 0.0906, 0.0692, 0.1093, 0.0765,\n",
       "         0.1115],\n",
       "        [0.1062, 0.1128, 0.1001, 0.1105, 0.0929, 0.0897, 0.0684, 0.1127, 0.0804,\n",
       "         0.1262],\n",
       "        [0.1063, 0.1174, 0.1042, 0.1039, 0.1016, 0.0929, 0.0698, 0.1086, 0.0733,\n",
       "         0.1220],\n",
       "        [0.1050, 0.1188, 0.1042, 0.1055, 0.1002, 0.0918, 0.0771, 0.1031, 0.0769,\n",
       "         0.1175],\n",
       "        [0.1048, 0.1175, 0.1039, 0.1092, 0.0916, 0.0903, 0.0763, 0.1131, 0.0787,\n",
       "         0.1146],\n",
       "        [0.1010, 0.1253, 0.1075, 0.1061, 0.0945, 0.0954, 0.0716, 0.1153, 0.0743,\n",
       "         0.1089],\n",
       "        [0.1076, 0.1149, 0.1111, 0.1053, 0.0976, 0.0915, 0.0717, 0.1074, 0.0747,\n",
       "         0.1183],\n",
       "        [0.1049, 0.1157, 0.1054, 0.1058, 0.0976, 0.0961, 0.0738, 0.1109, 0.0746,\n",
       "         0.1152],\n",
       "        [0.1022, 0.1163, 0.1164, 0.1046, 0.1028, 0.0853, 0.0735, 0.1039, 0.0790,\n",
       "         0.1160],\n",
       "        [0.1010, 0.1181, 0.1022, 0.1086, 0.0949, 0.0950, 0.0787, 0.1113, 0.0761,\n",
       "         0.1139],\n",
       "        [0.0979, 0.1185, 0.1055, 0.1099, 0.0960, 0.0984, 0.0724, 0.1114, 0.0793,\n",
       "         0.1107],\n",
       "        [0.1061, 0.1134, 0.1138, 0.1090, 0.1020, 0.0905, 0.0732, 0.1009, 0.0805,\n",
       "         0.1106],\n",
       "        [0.1131, 0.1122, 0.1209, 0.1046, 0.0976, 0.0863, 0.0695, 0.0944, 0.0832,\n",
       "         0.1183],\n",
       "        [0.1044, 0.1150, 0.1133, 0.1014, 0.0970, 0.0917, 0.0710, 0.1138, 0.0792,\n",
       "         0.1133],\n",
       "        [0.1121, 0.1206, 0.1106, 0.1022, 0.0867, 0.0880, 0.0772, 0.1076, 0.0778,\n",
       "         0.1171],\n",
       "        [0.1018, 0.1167, 0.1127, 0.1056, 0.0903, 0.0882, 0.0707, 0.1127, 0.0824,\n",
       "         0.1190],\n",
       "        [0.1020, 0.1189, 0.0994, 0.1096, 0.0980, 0.0951, 0.0726, 0.1129, 0.0753,\n",
       "         0.1162],\n",
       "        [0.1059, 0.1248, 0.1083, 0.1071, 0.0981, 0.0901, 0.0709, 0.1105, 0.0720,\n",
       "         0.1122],\n",
       "        [0.1079, 0.1189, 0.1070, 0.1068, 0.0985, 0.0895, 0.0719, 0.1056, 0.0780,\n",
       "         0.1159],\n",
       "        [0.1003, 0.1176, 0.1077, 0.1105, 0.0982, 0.0905, 0.0706, 0.1085, 0.0786,\n",
       "         0.1176],\n",
       "        [0.1000, 0.1190, 0.1075, 0.1081, 0.0964, 0.0983, 0.0725, 0.1081, 0.0747,\n",
       "         0.1153],\n",
       "        [0.1122, 0.1149, 0.1198, 0.1022, 0.0978, 0.0857, 0.0691, 0.1036, 0.0744,\n",
       "         0.1204],\n",
       "        [0.1086, 0.1120, 0.1050, 0.1054, 0.0976, 0.0950, 0.0720, 0.1054, 0.0815,\n",
       "         0.1174],\n",
       "        [0.1064, 0.1253, 0.1155, 0.1004, 0.0971, 0.0926, 0.0684, 0.1082, 0.0772,\n",
       "         0.1089],\n",
       "        [0.1087, 0.1058, 0.1069, 0.1114, 0.0987, 0.0922, 0.0745, 0.1019, 0.0799,\n",
       "         0.1198],\n",
       "        [0.1044, 0.1247, 0.1062, 0.1056, 0.0975, 0.0919, 0.0717, 0.1123, 0.0714,\n",
       "         0.1144],\n",
       "        [0.1012, 0.1164, 0.1065, 0.1074, 0.0981, 0.0941, 0.0703, 0.1061, 0.0805,\n",
       "         0.1194],\n",
       "        [0.1057, 0.1232, 0.1076, 0.1062, 0.0984, 0.0914, 0.0716, 0.1118, 0.0723,\n",
       "         0.1118],\n",
       "        [0.1049, 0.1156, 0.1015, 0.1035, 0.0981, 0.0887, 0.0729, 0.1179, 0.0764,\n",
       "         0.1204],\n",
       "        [0.1078, 0.1192, 0.1024, 0.1060, 0.0936, 0.0948, 0.0726, 0.1116, 0.0771,\n",
       "         0.1150],\n",
       "        [0.1126, 0.1138, 0.1102, 0.0983, 0.0996, 0.0954, 0.0741, 0.1047, 0.0791,\n",
       "         0.1123],\n",
       "        [0.1117, 0.1165, 0.0987, 0.1098, 0.0945, 0.0959, 0.0681, 0.1111, 0.0779,\n",
       "         0.1157],\n",
       "        [0.1073, 0.1171, 0.1170, 0.1020, 0.0965, 0.0923, 0.0699, 0.1066, 0.0737,\n",
       "         0.1176],\n",
       "        [0.1025, 0.1226, 0.1050, 0.1091, 0.0958, 0.0929, 0.0710, 0.1158, 0.0750,\n",
       "         0.1102],\n",
       "        [0.1036, 0.1233, 0.1097, 0.1072, 0.0970, 0.0937, 0.0709, 0.1099, 0.0744,\n",
       "         0.1103],\n",
       "        [0.1008, 0.1127, 0.1024, 0.1116, 0.1013, 0.0956, 0.0758, 0.1026, 0.0795,\n",
       "         0.1178],\n",
       "        [0.1082, 0.1195, 0.1081, 0.0991, 0.0967, 0.0952, 0.0768, 0.1047, 0.0728,\n",
       "         0.1190],\n",
       "        [0.0972, 0.1240, 0.1064, 0.1062, 0.0977, 0.0982, 0.0727, 0.1100, 0.0735,\n",
       "         0.1142],\n",
       "        [0.1058, 0.1209, 0.1061, 0.1058, 0.0946, 0.0949, 0.0697, 0.1088, 0.0769,\n",
       "         0.1164],\n",
       "        [0.1062, 0.1145, 0.1067, 0.1114, 0.0951, 0.0876, 0.0685, 0.1129, 0.0772,\n",
       "         0.1198],\n",
       "        [0.1051, 0.1170, 0.1137, 0.1082, 0.0933, 0.0939, 0.0712, 0.1094, 0.0763,\n",
       "         0.1119]], grad_fn=<SoftmaxBackward>)"
      ]
     },
     "execution_count": 49,
     "metadata": {},
     "output_type": "execute_result"
    }
   ],
   "source": [
    "model.forward(features)"
   ]
  },
  {
   "cell_type": "markdown",
   "metadata": {},
   "source": [
    "You can define the network somewhat more concisely and clearly using the `torch.nn.functional` module. This is the most common way you'll see networks defined as many operations are simple element-wise functions. We normally import this module as `F`, `import torch.nn.functional as F`."
   ]
  },
  {
   "cell_type": "code",
   "execution_count": 62,
   "metadata": {
    "ExecuteTime": {
     "end_time": "2021-06-09T13:05:38.181199Z",
     "start_time": "2021-06-09T13:05:38.176213Z"
    }
   },
   "outputs": [],
   "source": [
    "# import torch.nn.functional as F\n",
    "\n",
    "class Network(nn.Module):\n",
    "    def __init__(self):\n",
    "        super().__init__()\n",
    "        # Inputs to hidden layer linear transformation\n",
    "        self.hidden = nn.Linear(784, 256)\n",
    "        # Output layer, 10 units - one for each digit\n",
    "        self.output = nn.Linear(256, 10)\n",
    "        \n",
    "    def forward(self, x):\n",
    "        # Hidden layer with sigmoid activation\n",
    "        x = torch.relu(self.hidden(x))\n",
    "        # Output layer with softmax activation\n",
    "        x = torch.softmax(self.output(x), dim=1)\n",
    "        \n",
    "        return x"
   ]
  },
  {
   "cell_type": "code",
   "execution_count": 63,
   "metadata": {
    "ExecuteTime": {
     "end_time": "2021-06-09T13:05:38.791846Z",
     "start_time": "2021-06-09T13:05:38.775255Z"
    }
   },
   "outputs": [
    {
     "data": {
      "text/plain": [
       "Network(\n",
       "  (hidden): Linear(in_features=784, out_features=256, bias=True)\n",
       "  (output): Linear(in_features=256, out_features=10, bias=True)\n",
       ")"
      ]
     },
     "execution_count": 63,
     "metadata": {},
     "output_type": "execute_result"
    }
   ],
   "source": [
    "# Create the network and look at its text representation\n",
    "model = Network()\n",
    "model"
   ]
  },
  {
   "cell_type": "code",
   "execution_count": 64,
   "metadata": {
    "ExecuteTime": {
     "end_time": "2021-06-09T13:05:39.136378Z",
     "start_time": "2021-06-09T13:05:39.103477Z"
    }
   },
   "outputs": [
    {
     "data": {
      "text/plain": [
       "tensor([[0.0554, 0.0724, 0.1396, 0.1082, 0.0723, 0.1372, 0.0960, 0.1058, 0.0829,\n",
       "         0.1301],\n",
       "        [0.0627, 0.0852, 0.1527, 0.1064, 0.0947, 0.1230, 0.1002, 0.1003, 0.0658,\n",
       "         0.1090],\n",
       "        [0.0603, 0.0919, 0.1471, 0.1134, 0.0824, 0.1119, 0.0923, 0.1159, 0.0725,\n",
       "         0.1122],\n",
       "        [0.0616, 0.0763, 0.1473, 0.1183, 0.0861, 0.1296, 0.0965, 0.1017, 0.0718,\n",
       "         0.1109],\n",
       "        [0.0628, 0.0780, 0.1514, 0.1109, 0.0994, 0.1136, 0.1016, 0.1094, 0.0634,\n",
       "         0.1097],\n",
       "        [0.0529, 0.0910, 0.1578, 0.0916, 0.0700, 0.1161, 0.1106, 0.1078, 0.0663,\n",
       "         0.1358],\n",
       "        [0.0657, 0.0857, 0.1403, 0.1093, 0.0890, 0.1341, 0.0989, 0.0946, 0.0815,\n",
       "         0.1009],\n",
       "        [0.0534, 0.0990, 0.1469, 0.0846, 0.0743, 0.1116, 0.1201, 0.1048, 0.0750,\n",
       "         0.1304],\n",
       "        [0.0641, 0.1010, 0.1335, 0.1062, 0.0798, 0.1045, 0.1132, 0.0834, 0.0813,\n",
       "         0.1329],\n",
       "        [0.0625, 0.0748, 0.1440, 0.1015, 0.0832, 0.1208, 0.1100, 0.0990, 0.1010,\n",
       "         0.1031],\n",
       "        [0.0633, 0.0935, 0.1383, 0.1296, 0.0707, 0.1100, 0.0937, 0.1037, 0.0730,\n",
       "         0.1240],\n",
       "        [0.0859, 0.0770, 0.1088, 0.1036, 0.0741, 0.1619, 0.1000, 0.0923, 0.0929,\n",
       "         0.1036],\n",
       "        [0.0657, 0.0819, 0.1269, 0.1278, 0.0897, 0.1244, 0.0884, 0.1130, 0.0838,\n",
       "         0.0985],\n",
       "        [0.0582, 0.0863, 0.1448, 0.0758, 0.0730, 0.1257, 0.1225, 0.0854, 0.0996,\n",
       "         0.1286],\n",
       "        [0.0580, 0.0919, 0.1327, 0.1077, 0.0967, 0.1098, 0.1088, 0.0879, 0.0779,\n",
       "         0.1287],\n",
       "        [0.0586, 0.0866, 0.1351, 0.1107, 0.0907, 0.1184, 0.1060, 0.0843, 0.0789,\n",
       "         0.1305],\n",
       "        [0.0635, 0.0900, 0.1397, 0.1115, 0.0833, 0.1106, 0.1041, 0.0787, 0.0912,\n",
       "         0.1277],\n",
       "        [0.0506, 0.0834, 0.1606, 0.1060, 0.0814, 0.1038, 0.1348, 0.0860, 0.0822,\n",
       "         0.1114],\n",
       "        [0.0584, 0.0750, 0.1262, 0.0977, 0.0806, 0.1325, 0.1106, 0.0855, 0.1004,\n",
       "         0.1330],\n",
       "        [0.0648, 0.0949, 0.1341, 0.1155, 0.0820, 0.0956, 0.1134, 0.0814, 0.0843,\n",
       "         0.1340],\n",
       "        [0.0626, 0.0775, 0.1365, 0.0956, 0.0778, 0.1400, 0.0899, 0.1066, 0.0924,\n",
       "         0.1212],\n",
       "        [0.0634, 0.0853, 0.1538, 0.0985, 0.0746, 0.1089, 0.1051, 0.1082, 0.0709,\n",
       "         0.1313],\n",
       "        [0.0588, 0.0945, 0.1477, 0.1079, 0.0757, 0.1173, 0.0954, 0.0985, 0.0764,\n",
       "         0.1280],\n",
       "        [0.0587, 0.0875, 0.1514, 0.1073, 0.0762, 0.1081, 0.1139, 0.0938, 0.0828,\n",
       "         0.1202],\n",
       "        [0.0641, 0.0983, 0.1481, 0.1059, 0.0735, 0.1202, 0.0897, 0.1154, 0.0795,\n",
       "         0.1054],\n",
       "        [0.0666, 0.0894, 0.1277, 0.1166, 0.0852, 0.1354, 0.1039, 0.0828, 0.0761,\n",
       "         0.1162],\n",
       "        [0.0658, 0.0748, 0.1540, 0.1056, 0.0818, 0.1241, 0.0972, 0.1102, 0.0662,\n",
       "         0.1201],\n",
       "        [0.0666, 0.0932, 0.1285, 0.1131, 0.0830, 0.1138, 0.1028, 0.0925, 0.0771,\n",
       "         0.1294],\n",
       "        [0.0617, 0.0790, 0.1615, 0.1119, 0.0784, 0.1088, 0.1031, 0.1107, 0.0726,\n",
       "         0.1124],\n",
       "        [0.0548, 0.0931, 0.1546, 0.1215, 0.0856, 0.1194, 0.0911, 0.0727, 0.0826,\n",
       "         0.1245],\n",
       "        [0.0663, 0.1027, 0.1257, 0.1057, 0.0760, 0.1229, 0.1017, 0.0976, 0.0813,\n",
       "         0.1203],\n",
       "        [0.0812, 0.1076, 0.1281, 0.0859, 0.0819, 0.0944, 0.1362, 0.0768, 0.0806,\n",
       "         0.1271],\n",
       "        [0.0623, 0.0939, 0.1363, 0.1127, 0.0893, 0.1115, 0.0982, 0.0894, 0.0641,\n",
       "         0.1423],\n",
       "        [0.0736, 0.0791, 0.1267, 0.1019, 0.0783, 0.1427, 0.1027, 0.0931, 0.0916,\n",
       "         0.1102],\n",
       "        [0.0639, 0.1093, 0.1301, 0.0864, 0.0717, 0.1358, 0.0993, 0.1015, 0.0774,\n",
       "         0.1248],\n",
       "        [0.0611, 0.0788, 0.1347, 0.0903, 0.0724, 0.1449, 0.0876, 0.0998, 0.0993,\n",
       "         0.1311],\n",
       "        [0.0618, 0.1026, 0.1253, 0.0960, 0.0766, 0.1167, 0.1148, 0.0965, 0.0770,\n",
       "         0.1326],\n",
       "        [0.0558, 0.1093, 0.1788, 0.0955, 0.0746, 0.0887, 0.1048, 0.0904, 0.0747,\n",
       "         0.1274],\n",
       "        [0.0761, 0.0863, 0.1279, 0.1271, 0.0874, 0.1292, 0.0810, 0.0802, 0.0978,\n",
       "         0.1070],\n",
       "        [0.0591, 0.1165, 0.1337, 0.0981, 0.0678, 0.1163, 0.1096, 0.1015, 0.0770,\n",
       "         0.1204],\n",
       "        [0.0588, 0.0927, 0.1624, 0.1112, 0.0678, 0.0993, 0.1014, 0.1100, 0.0714,\n",
       "         0.1249],\n",
       "        [0.0571, 0.0855, 0.1796, 0.1078, 0.0759, 0.0981, 0.1014, 0.1052, 0.0756,\n",
       "         0.1139],\n",
       "        [0.0593, 0.0864, 0.1433, 0.0990, 0.0754, 0.1058, 0.1094, 0.1090, 0.0852,\n",
       "         0.1272],\n",
       "        [0.0767, 0.0837, 0.1433, 0.0884, 0.0783, 0.1375, 0.1129, 0.0887, 0.0833,\n",
       "         0.1073],\n",
       "        [0.0598, 0.1023, 0.1556, 0.1083, 0.0670, 0.0959, 0.1040, 0.0901, 0.0886,\n",
       "         0.1285],\n",
       "        [0.0570, 0.0834, 0.1681, 0.1015, 0.0661, 0.1186, 0.0962, 0.1140, 0.0685,\n",
       "         0.1265],\n",
       "        [0.0705, 0.0883, 0.1290, 0.1176, 0.0894, 0.1330, 0.0978, 0.0875, 0.0778,\n",
       "         0.1089],\n",
       "        [0.0821, 0.0894, 0.1288, 0.0971, 0.0712, 0.1443, 0.1096, 0.0775, 0.0889,\n",
       "         0.1110],\n",
       "        [0.0594, 0.0929, 0.1494, 0.1031, 0.0683, 0.1055, 0.1051, 0.1056, 0.0736,\n",
       "         0.1371],\n",
       "        [0.0589, 0.0894, 0.1476, 0.1232, 0.0771, 0.1207, 0.0912, 0.1101, 0.0701,\n",
       "         0.1118],\n",
       "        [0.0635, 0.0849, 0.1585, 0.0986, 0.0776, 0.1129, 0.1046, 0.1073, 0.0681,\n",
       "         0.1242],\n",
       "        [0.0618, 0.0879, 0.1381, 0.1416, 0.0794, 0.1154, 0.0837, 0.0979, 0.0729,\n",
       "         0.1213],\n",
       "        [0.0598, 0.0849, 0.1254, 0.1145, 0.0829, 0.1191, 0.1126, 0.0996, 0.0687,\n",
       "         0.1326],\n",
       "        [0.0676, 0.1122, 0.1290, 0.1042, 0.0763, 0.1207, 0.0905, 0.0980, 0.0759,\n",
       "         0.1255],\n",
       "        [0.0619, 0.0857, 0.1481, 0.1214, 0.0830, 0.1024, 0.1008, 0.1008, 0.0823,\n",
       "         0.1136],\n",
       "        [0.0650, 0.0885, 0.1191, 0.1159, 0.0850, 0.1165, 0.0993, 0.1057, 0.0747,\n",
       "         0.1303],\n",
       "        [0.0650, 0.0947, 0.1304, 0.1021, 0.0752, 0.1194, 0.1112, 0.0903, 0.0924,\n",
       "         0.1194],\n",
       "        [0.0628, 0.0860, 0.1512, 0.1071, 0.0807, 0.1182, 0.1000, 0.1085, 0.0717,\n",
       "         0.1138],\n",
       "        [0.0765, 0.0951, 0.1304, 0.0948, 0.0845, 0.1303, 0.1038, 0.0733, 0.0826,\n",
       "         0.1287],\n",
       "        [0.0628, 0.0964, 0.1562, 0.1032, 0.0885, 0.1058, 0.0940, 0.0778, 0.0828,\n",
       "         0.1324],\n",
       "        [0.0689, 0.0769, 0.1284, 0.1133, 0.1028, 0.1245, 0.1009, 0.0990, 0.0749,\n",
       "         0.1103],\n",
       "        [0.0526, 0.0922, 0.1561, 0.1071, 0.0755, 0.1032, 0.1069, 0.1013, 0.0789,\n",
       "         0.1263],\n",
       "        [0.0508, 0.0854, 0.1465, 0.1166, 0.0939, 0.0939, 0.1128, 0.0927, 0.0753,\n",
       "         0.1321],\n",
       "        [0.0548, 0.0788, 0.1532, 0.1094, 0.0776, 0.1146, 0.1023, 0.0958, 0.0877,\n",
       "         0.1259]], grad_fn=<SoftmaxBackward>)"
      ]
     },
     "execution_count": 64,
     "metadata": {},
     "output_type": "execute_result"
    }
   ],
   "source": [
    "model.forward(features)"
   ]
  },
  {
   "cell_type": "markdown",
   "metadata": {},
   "source": [
    "### Activation functions\n",
    "\n",
    "So far we've only been looking at the sigmoid activation function, but in general any function can be used as an activation function. The only requirement is that for a network to approximate a non-linear function, the activation functions must be non-linear. Here are a few more examples of common activation functions: Tanh (hyperbolic tangent), and ReLU (rectified linear unit).\n",
    "\n",
    "<img src=\"assets/activation.png\" width=700px>\n",
    "\n",
    "In practice, the ReLU function is used almost exclusively as the activation function for hidden layers."
   ]
  },
  {
   "cell_type": "markdown",
   "metadata": {},
   "source": [
    "### Your Turn to Build a Network\n",
    "\n",
    "<img src=\"assets/mlp_mnist.png\" width=600px>\n",
    "\n",
    "> **Exercise:** Create a network with 784 input units, a hidden layer with 128 units and a ReLU activation, then a hidden layer with 64 units and a ReLU activation, and finally an output layer with a softmax activation as shown above. You can use a ReLU activation with the `nn.ReLU` module or `F.relu` function.\n",
    "\n",
    "It's good practice to name your layers by their type of network, for instance 'fc' to represent a fully-connected layer. As you code your solution, use `fc1`, `fc2`, and `fc3` as your layer names."
   ]
  },
  {
   "cell_type": "code",
   "execution_count": 68,
   "metadata": {
    "ExecuteTime": {
     "end_time": "2021-06-09T13:09:08.305371Z",
     "start_time": "2021-06-09T13:09:08.296395Z"
    },
    "scrolled": true
   },
   "outputs": [],
   "source": [
    "## Your solution here\n",
    "# import torch.nn.functional as F\n",
    "\n",
    "class Network(nn.Module):\n",
    "    def __init__(self):\n",
    "        super().__init__()\n",
    "        # Inputs to hidden layer linear transformation\n",
    "        self.hidden1 = nn.Linear(784, 128)\n",
    "        self.hidden2 = nn.Linear(128, 64)\n",
    "        # Output layer, 10 units - one for each digit\n",
    "        self.output = nn.Linear(64, 10)\n",
    "        \n",
    "    def forward(self, x):\n",
    "        # Hidden layer with sigmoid activation\n",
    "        x = torch.relu(self.hidden1(x))\n",
    "        x = torch.relu(self.hidden2(x))\n",
    "        # Output layer with softmax activation\n",
    "        x = torch.softmax(self.output(x), dim=1)\n",
    "        \n",
    "        return x"
   ]
  },
  {
   "cell_type": "code",
   "execution_count": 69,
   "metadata": {
    "ExecuteTime": {
     "end_time": "2021-06-09T13:09:08.649488Z",
     "start_time": "2021-06-09T13:09:08.639517Z"
    }
   },
   "outputs": [
    {
     "data": {
      "text/plain": [
       "Network(\n",
       "  (hidden1): Linear(in_features=784, out_features=128, bias=True)\n",
       "  (hidden2): Linear(in_features=128, out_features=64, bias=True)\n",
       "  (output): Linear(in_features=64, out_features=10, bias=True)\n",
       ")"
      ]
     },
     "execution_count": 69,
     "metadata": {},
     "output_type": "execute_result"
    }
   ],
   "source": [
    "model = Network()\n",
    "model"
   ]
  },
  {
   "cell_type": "code",
   "execution_count": 74,
   "metadata": {
    "ExecuteTime": {
     "end_time": "2021-06-09T13:11:42.736099Z",
     "start_time": "2021-06-09T13:11:42.720167Z"
    }
   },
   "outputs": [
    {
     "data": {
      "text/plain": [
       "tensor([0.0900, 0.0916, 0.0867, 0.1000, 0.1181, 0.0921, 0.1185, 0.0981, 0.1123,\n",
       "        0.0925], grad_fn=<SelectBackward>)"
      ]
     },
     "execution_count": 74,
     "metadata": {},
     "output_type": "execute_result"
    }
   ],
   "source": [
    "out = model.forward(features)\n",
    "out[0].ipyn"
   ]
  },
  {
   "cell_type": "markdown",
   "metadata": {},
   "source": [
    "### Initializing weights and biases\n",
    "\n",
    "The weights and such are automatically initialized for you, but it's possible to customize how they are initialized. The weights and biases are tensors attached to the layer you defined, you can get them with `model.fc1.weight` for instance."
   ]
  },
  {
   "cell_type": "code",
   "execution_count": 72,
   "metadata": {
    "ExecuteTime": {
     "end_time": "2021-06-09T13:09:48.158259Z",
     "start_time": "2021-06-09T13:09:48.144298Z"
    }
   },
   "outputs": [
    {
     "name": "stdout",
     "output_type": "stream",
     "text": [
      "Parameter containing:\n",
      "tensor([[-0.0247, -0.0099,  0.0273,  ..., -0.0085,  0.0232, -0.0335],\n",
      "        [ 0.0348,  0.0101, -0.0156,  ..., -0.0080, -0.0294,  0.0104],\n",
      "        [ 0.0102,  0.0337,  0.0241,  ..., -0.0237, -0.0318,  0.0230],\n",
      "        ...,\n",
      "        [-0.0218,  0.0133,  0.0082,  ..., -0.0156,  0.0233, -0.0053],\n",
      "        [-0.0029, -0.0241, -0.0270,  ...,  0.0161,  0.0172, -0.0341],\n",
      "        [-0.0140,  0.0288, -0.0007,  ...,  0.0040,  0.0030, -0.0048]],\n",
      "       requires_grad=True)\n",
      "Parameter containing:\n",
      "tensor([-0.0148, -0.0064, -0.0336, -0.0128, -0.0061,  0.0210, -0.0254, -0.0097,\n",
      "         0.0328,  0.0225, -0.0089,  0.0184,  0.0075, -0.0218, -0.0226, -0.0307,\n",
      "         0.0226,  0.0205,  0.0292,  0.0287,  0.0025, -0.0168,  0.0048, -0.0230,\n",
      "        -0.0174,  0.0193,  0.0170, -0.0040, -0.0093,  0.0053,  0.0173,  0.0051,\n",
      "        -0.0124,  0.0038,  0.0149,  0.0049,  0.0226,  0.0309,  0.0082, -0.0032,\n",
      "         0.0321, -0.0128,  0.0357,  0.0032, -0.0083, -0.0311,  0.0301, -0.0201,\n",
      "         0.0017,  0.0213,  0.0218, -0.0190, -0.0130, -0.0085,  0.0352, -0.0002,\n",
      "        -0.0108, -0.0023,  0.0068, -0.0334,  0.0045,  0.0293, -0.0308, -0.0181,\n",
      "        -0.0072,  0.0100, -0.0190, -0.0031,  0.0013, -0.0160,  0.0151,  0.0289,\n",
      "         0.0179, -0.0155,  0.0151,  0.0051,  0.0284, -0.0219, -0.0150,  0.0344,\n",
      "        -0.0062,  0.0118,  0.0075,  0.0308, -0.0268,  0.0127, -0.0100,  0.0166,\n",
      "        -0.0209, -0.0331, -0.0288, -0.0102, -0.0254,  0.0247, -0.0038,  0.0325,\n",
      "         0.0273, -0.0316, -0.0286, -0.0216, -0.0318, -0.0075, -0.0340,  0.0091,\n",
      "        -0.0062, -0.0146,  0.0332,  0.0323,  0.0299,  0.0073, -0.0226,  0.0277,\n",
      "         0.0005,  0.0320,  0.0344,  0.0120,  0.0123, -0.0292, -0.0120, -0.0108,\n",
      "        -0.0318,  0.0106,  0.0215,  0.0035, -0.0225, -0.0129, -0.0139,  0.0320],\n",
      "       requires_grad=True)\n"
     ]
    }
   ],
   "source": [
    "print(model.hidden1.weight)\n",
    "print(model.hidden1.bias)"
   ]
  },
  {
   "cell_type": "markdown",
   "metadata": {},
   "source": [
    "For custom initialization, we want to modify these tensors in place. These are actually autograd *Variables*, so we need to get back the actual tensors with `model.fc1.weight.data`. Once we have the tensors, we can fill them with zeros (for biases) or random normal values."
   ]
  },
  {
   "cell_type": "code",
   "execution_count": 62,
   "metadata": {
    "collapsed": true
   },
   "outputs": [
    {
     "ename": "AttributeError",
     "evalue": "'Network' object has no attribute 'fc1'",
     "output_type": "error",
     "traceback": [
      "\u001b[1;31m---------------------------------------------------------------------------\u001b[0m",
      "\u001b[1;31mAttributeError\u001b[0m                            Traceback (most recent call last)",
      "\u001b[1;32m<ipython-input-62-7f3924b78efd>\u001b[0m in \u001b[0;36m<module>\u001b[1;34m\u001b[0m\n\u001b[0;32m      1\u001b[0m \u001b[1;31m# Set biases to all zeros\u001b[0m\u001b[1;33m\u001b[0m\u001b[1;33m\u001b[0m\u001b[1;33m\u001b[0m\u001b[0m\n\u001b[1;32m----> 2\u001b[1;33m \u001b[0mmodel\u001b[0m\u001b[1;33m.\u001b[0m\u001b[0mfc1\u001b[0m\u001b[1;33m.\u001b[0m\u001b[0mbias\u001b[0m\u001b[1;33m.\u001b[0m\u001b[0mdata\u001b[0m\u001b[1;33m.\u001b[0m\u001b[0mfill_\u001b[0m\u001b[1;33m(\u001b[0m\u001b[1;36m0\u001b[0m\u001b[1;33m)\u001b[0m\u001b[1;33m\u001b[0m\u001b[1;33m\u001b[0m\u001b[0m\n\u001b[0m",
      "\u001b[1;32m~\\Anaconda3\\envs\\envTorch\\lib\\site-packages\\torch\\nn\\modules\\module.py\u001b[0m in \u001b[0;36m__getattr__\u001b[1;34m(self, name)\u001b[0m\n\u001b[0;32m    592\u001b[0m                 \u001b[1;32mreturn\u001b[0m \u001b[0mmodules\u001b[0m\u001b[1;33m[\u001b[0m\u001b[0mname\u001b[0m\u001b[1;33m]\u001b[0m\u001b[1;33m\u001b[0m\u001b[1;33m\u001b[0m\u001b[0m\n\u001b[0;32m    593\u001b[0m         raise AttributeError(\"'{}' object has no attribute '{}'\".format(\n\u001b[1;32m--> 594\u001b[1;33m             type(self).__name__, name))\n\u001b[0m\u001b[0;32m    595\u001b[0m \u001b[1;33m\u001b[0m\u001b[0m\n\u001b[0;32m    596\u001b[0m     \u001b[1;32mdef\u001b[0m \u001b[0m__setattr__\u001b[0m\u001b[1;33m(\u001b[0m\u001b[0mself\u001b[0m\u001b[1;33m,\u001b[0m \u001b[0mname\u001b[0m\u001b[1;33m,\u001b[0m \u001b[0mvalue\u001b[0m\u001b[1;33m)\u001b[0m\u001b[1;33m:\u001b[0m\u001b[1;33m\u001b[0m\u001b[1;33m\u001b[0m\u001b[0m\n",
      "\u001b[1;31mAttributeError\u001b[0m: 'Network' object has no attribute 'fc1'"
     ]
    }
   ],
   "source": [
    "# Set biases to all zeros\n",
    "model.fc1.bias.data.fill_(0)"
   ]
  },
  {
   "cell_type": "code",
   "execution_count": 63,
   "metadata": {
    "collapsed": true
   },
   "outputs": [
    {
     "ename": "AttributeError",
     "evalue": "'Network' object has no attribute 'fc1'",
     "output_type": "error",
     "traceback": [
      "\u001b[1;31m---------------------------------------------------------------------------\u001b[0m",
      "\u001b[1;31mAttributeError\u001b[0m                            Traceback (most recent call last)",
      "\u001b[1;32m<ipython-input-63-51cf007dbb9a>\u001b[0m in \u001b[0;36m<module>\u001b[1;34m\u001b[0m\n\u001b[0;32m      1\u001b[0m \u001b[1;31m# sample from random normal with standard dev = 0.01\u001b[0m\u001b[1;33m\u001b[0m\u001b[1;33m\u001b[0m\u001b[1;33m\u001b[0m\u001b[0m\n\u001b[1;32m----> 2\u001b[1;33m \u001b[0mmodel\u001b[0m\u001b[1;33m.\u001b[0m\u001b[0mfc1\u001b[0m\u001b[1;33m.\u001b[0m\u001b[0mweight\u001b[0m\u001b[1;33m.\u001b[0m\u001b[0mdata\u001b[0m\u001b[1;33m.\u001b[0m\u001b[0mnormal_\u001b[0m\u001b[1;33m(\u001b[0m\u001b[0mstd\u001b[0m\u001b[1;33m=\u001b[0m\u001b[1;36m0.01\u001b[0m\u001b[1;33m)\u001b[0m\u001b[1;33m\u001b[0m\u001b[1;33m\u001b[0m\u001b[0m\n\u001b[0m",
      "\u001b[1;32m~\\Anaconda3\\envs\\envTorch\\lib\\site-packages\\torch\\nn\\modules\\module.py\u001b[0m in \u001b[0;36m__getattr__\u001b[1;34m(self, name)\u001b[0m\n\u001b[0;32m    592\u001b[0m                 \u001b[1;32mreturn\u001b[0m \u001b[0mmodules\u001b[0m\u001b[1;33m[\u001b[0m\u001b[0mname\u001b[0m\u001b[1;33m]\u001b[0m\u001b[1;33m\u001b[0m\u001b[1;33m\u001b[0m\u001b[0m\n\u001b[0;32m    593\u001b[0m         raise AttributeError(\"'{}' object has no attribute '{}'\".format(\n\u001b[1;32m--> 594\u001b[1;33m             type(self).__name__, name))\n\u001b[0m\u001b[0;32m    595\u001b[0m \u001b[1;33m\u001b[0m\u001b[0m\n\u001b[0;32m    596\u001b[0m     \u001b[1;32mdef\u001b[0m \u001b[0m__setattr__\u001b[0m\u001b[1;33m(\u001b[0m\u001b[0mself\u001b[0m\u001b[1;33m,\u001b[0m \u001b[0mname\u001b[0m\u001b[1;33m,\u001b[0m \u001b[0mvalue\u001b[0m\u001b[1;33m)\u001b[0m\u001b[1;33m:\u001b[0m\u001b[1;33m\u001b[0m\u001b[1;33m\u001b[0m\u001b[0m\n",
      "\u001b[1;31mAttributeError\u001b[0m: 'Network' object has no attribute 'fc1'"
     ]
    }
   ],
   "source": [
    "# sample from random normal with standard dev = 0.01\n",
    "model.fc1.weight.data.normal_(std=0.01)"
   ]
  },
  {
   "cell_type": "markdown",
   "metadata": {},
   "source": [
    "### Forward pass\n",
    "\n",
    "Now that we have a network, let's see what happens when we pass in an image."
   ]
  },
  {
   "cell_type": "code",
   "execution_count": 64,
   "metadata": {
    "collapsed": true
   },
   "outputs": [
    {
     "data": {
      "image/png": "[encoded data removed]",
      "text/plain": [
       "<Figure size 432x648 with 2 Axes>"
      ]
     },
     "metadata": {
      "image/png": {
       "height": 235,
       "width": 424
      },
      "needs_background": "light"
     },
     "output_type": "display_data"
    }
   ],
   "source": [
    "# Grab some data \n",
    "dataiter = iter(trainloader)\n",
    "images, labels = dataiter.next()\n",
    "\n",
    "# Resize images into a 1D vector, new shape is (batch size, color channels, image pixels) \n",
    "images.resize_(64, 1, 784)\n",
    "# or images.resize_(images.shape[0], 1, 784) to automatically get batch size\n",
    "\n",
    "# Forward pass through the network\n",
    "img_idx = 0\n",
    "ps = model.forward(images[img_idx,:])\n",
    "\n",
    "img = images[img_idx]\n",
    "helper.view_classify(img.view(1, 28, 28), ps)"
   ]
  },
  {
   "cell_type": "markdown",
   "metadata": {},
   "source": [
    "As you can see above, our network has basically no idea what this digit is. It's because we haven't trained it yet, all the weights are random!\n",
    "\n",
    "### Using `nn.Sequential`\n",
    "\n",
    "PyTorch provides a convenient way to build networks like this where a tensor is passed sequentially through operations, `nn.Sequential` ([documentation](https://pytorch.org/docs/master/nn.html#torch.nn.Sequential)). Using this to build the equivalent network:"
   ]
  },
  {
   "cell_type": "code",
   "execution_count": 65,
   "metadata": {
    "collapsed": true
   },
   "outputs": [
    {
     "name": "stdout",
     "output_type": "stream",
     "text": [
      "Sequential(\n",
      "  (0): Linear(in_features=784, out_features=128, bias=True)\n",
      "  (1): ReLU()\n",
      "  (2): Linear(in_features=128, out_features=64, bias=True)\n",
      "  (3): ReLU()\n",
      "  (4): Linear(in_features=64, out_features=10, bias=True)\n",
      "  (5): Softmax(dim=1)\n",
      ")\n"
     ]
    },
    {
     "data": {
      "image/png": "[encoded data removed]",
      "text/plain": [
       "<Figure size 432x648 with 2 Axes>"
      ]
     },
     "metadata": {
      "image/png": {
       "height": 235,
       "width": 424
      },
      "needs_background": "light"
     },
     "output_type": "display_data"
    }
   ],
   "source": [
    "# Hyperparameters for our network\n",
    "input_size = 784\n",
    "hidden_sizes = [128, 64]\n",
    "output_size = 10\n",
    "\n",
    "# Build a feed-forward network\n",
    "model = nn.Sequential(nn.Linear(input_size, hidden_sizes[0]),\n",
    "                      nn.ReLU(),\n",
    "                      nn.Linear(hidden_sizes[0], hidden_sizes[1]),\n",
    "                      nn.ReLU(),\n",
    "                      nn.Linear(hidden_sizes[1], output_size),\n",
    "                      nn.Softmax(dim=1))\n",
    "print(model)\n",
    "\n",
    "# Forward pass through the network and display output\n",
    "images, labels = next(iter(trainloader))\n",
    "images.resize_(images.shape[0], 1, 784)\n",
    "ps = model.forward(images[0,:])\n",
    "helper.view_classify(images[0].view(1, 28, 28), ps)"
   ]
  },
  {
   "cell_type": "markdown",
   "metadata": {},
   "source": [
    "Here our model is the same as before: 784 input units, a hidden layer with 128 units, ReLU activation, 64 unit hidden layer, another ReLU, then the output layer with 10 units, and the softmax output.\n",
    "\n",
    "The operations are available by passing in the appropriate index. For example, if you want to get first Linear operation and look at the weights, you'd use `model[0]`."
   ]
  },
  {
   "cell_type": "code",
   "execution_count": 66,
   "metadata": {
    "collapsed": true
   },
   "outputs": [
    {
     "name": "stdout",
     "output_type": "stream",
     "text": [
      "Linear(in_features=784, out_features=128, bias=True)\n"
     ]
    },
    {
     "data": {
      "text/plain": [
       "Parameter containing:\n",
       "tensor([[-0.0087, -0.0220,  0.0054,  ..., -0.0126,  0.0284, -0.0057],\n",
       "        [-0.0007,  0.0179, -0.0247,  ...,  0.0131, -0.0338, -0.0108],\n",
       "        [ 0.0012,  0.0208, -0.0094,  ...,  0.0140,  0.0052,  0.0094],\n",
       "        ...,\n",
       "        [-0.0183,  0.0111,  0.0117,  ...,  0.0324,  0.0155, -0.0284],\n",
       "        [ 0.0046, -0.0355,  0.0147,  ...,  0.0157,  0.0112, -0.0042],\n",
       "        [ 0.0255, -0.0254, -0.0215,  ...,  0.0253, -0.0181,  0.0345]],\n",
       "       requires_grad=True)"
      ]
     },
     "execution_count": 66,
     "metadata": {},
     "output_type": "execute_result"
    }
   ],
   "source": [
    "print(model[0])\n",
    "model[0].weight"
   ]
  },
  {
   "cell_type": "markdown",
   "metadata": {},
   "source": [
    "You can also pass in an `OrderedDict` to name the individual layers and operations, instead of using incremental integers. Note that dictionary keys must be unique, so _each operation must have a different name_."
   ]
  },
  {
   "cell_type": "code",
   "execution_count": 67,
   "metadata": {
    "collapsed": true
   },
   "outputs": [
    {
     "data": {
      "text/plain": [
       "Sequential(\n",
       "  (fc1): Linear(in_features=784, out_features=128, bias=True)\n",
       "  (relu1): ReLU()\n",
       "  (fc2): Linear(in_features=128, out_features=64, bias=True)\n",
       "  (relu2): ReLU()\n",
       "  (output): Linear(in_features=64, out_features=10, bias=True)\n",
       "  (softmax): Softmax(dim=1)\n",
       ")"
      ]
     },
     "execution_count": 67,
     "metadata": {},
     "output_type": "execute_result"
    }
   ],
   "source": [
    "from collections import OrderedDict\n",
    "model = nn.Sequential(OrderedDict([\n",
    "                      ('fc1', nn.Linear(input_size, hidden_sizes[0])),\n",
    "                      ('relu1', nn.ReLU()),\n",
    "                      ('fc2', nn.Linear(hidden_sizes[0], hidden_sizes[1])),\n",
    "                      ('relu2', nn.ReLU()),\n",
    "                      ('output', nn.Linear(hidden_sizes[1], output_size)),\n",
    "                      ('softmax', nn.Softmax(dim=1))]))\n",
    "model"
   ]
  },
  {
   "cell_type": "markdown",
   "metadata": {},
   "source": [
    "Now you can access layers either by integer or the name"
   ]
  },
  {
   "cell_type": "code",
   "execution_count": 68,
   "metadata": {
    "collapsed": true
   },
   "outputs": [
    {
     "name": "stdout",
     "output_type": "stream",
     "text": [
      "Linear(in_features=784, out_features=128, bias=True)\n",
      "Linear(in_features=784, out_features=128, bias=True)\n"
     ]
    }
   ],
   "source": [
    "print(model[0])\n",
    "print(model.fc1)"
   ]
  },
  {
   "cell_type": "markdown",
   "metadata": {},
   "source": [
    "In the next notebook, we'll see how we can train a neural network to accuractly predict the numbers appearing in the MNIST images."
   ]
  }
 ],
 "metadata": {
  "kernelspec": {
   "display_name": "Python 3",
   "language": "python",
   "name": "python3"
  },
  "language_info": {
   "codemirror_mode": {
    "name": "ipython",
    "version": 3
   },
   "file_extension": ".py",
   "mimetype": "text/x-python",
   "name": "python",
   "nbconvert_exporter": "python",
   "pygments_lexer": "ipython3",
   "version": "3.7.10"
  },
  "varInspector": {
   "cols": {
    "lenName": 16,
    "lenType": 16,
    "lenVar": 40
   },
   "kernels_config": {
    "python": {
     "delete_cmd_postfix": "",
     "delete_cmd_prefix": "del ",
     "library": "var_list.py",
     "varRefreshCmd": "print(var_dic_list())"
    },
    "r": {
     "delete_cmd_postfix": ") ",
     "delete_cmd_prefix": "rm(",
     "library": "var_list.r",
     "varRefreshCmd": "cat(var_dic_list()) "
    }
   },
   "types_to_exclude": [
    "module",
    "function",
    "builtin_function_or_method",
    "instance",
    "_Feature"
   ],
   "window_display": false
  }
 },
 "nbformat": 4,
 "nbformat_minor": 2
}
